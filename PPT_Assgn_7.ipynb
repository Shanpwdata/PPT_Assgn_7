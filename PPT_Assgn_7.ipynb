{
 "cells": [
  {
   "cell_type": "markdown",
   "id": "c3eb850e-bea3-4911-8b40-5a6d032c3876",
   "metadata": {},
   "source": [
    "💡 **Question 1**\n",
    "\n",
    "Given two strings s and t, *determine if they are isomorphic*.\n",
    "\n",
    "Two strings s and t are isomorphic if the characters in s can be replaced to get t.\n",
    "\n",
    "All occurrences of a character must be replaced with another character while preserving the order of characters. No two characters may map to the same character, but a character may map to itself.\n",
    "\n",
    "**Example 1:**\n",
    "\n",
    "**Input:** s = \"egg\", t = \"add\"\n",
    "\n",
    "**Output:** true"
   ]
  },
  {
   "cell_type": "code",
   "execution_count": 1,
   "id": "bfd044bb-9a10-4d58-a10a-fd22697a727e",
   "metadata": {},
   "outputs": [],
   "source": [
    "###Ans_1.\n",
    "def is_isomorphic(s, t):\n",
    "    if len(s) != len(t):\n",
    "        return False\n",
    "    \n",
    "    char_map_s = {}\n",
    "    char_map_t = {}\n",
    "    \n",
    "    for i in range(len(s)):\n",
    "        char_s = s[i]\n",
    "        char_t = t[i]\n",
    "        \n",
    "        if char_s in char_map_s:\n",
    "            if char_map_s[char_s] != char_t:\n",
    "                return False\n",
    "        else:\n",
    "            char_map_s[char_s] = char_t\n",
    "        \n",
    "        if char_t in char_map_t:\n",
    "            if char_map_t[char_t] != char_s:\n",
    "                return False\n",
    "        else:\n",
    "            char_map_t[char_t] = char_s\n",
    "    \n",
    "    return True"
   ]
  },
  {
   "cell_type": "code",
   "execution_count": 2,
   "id": "254f17c1-29fc-4c92-9447-3a081bcac027",
   "metadata": {},
   "outputs": [
    {
     "data": {
      "text/plain": [
       "True"
      ]
     },
     "execution_count": 2,
     "metadata": {},
     "output_type": "execute_result"
    }
   ],
   "source": [
    "is_isomorphic(\"egg\", \"add\")"
   ]
  },
  {
   "cell_type": "markdown",
   "id": "282f06f5-3665-4505-a0b5-f57856929f70",
   "metadata": {},
   "source": [
    "💡 **Question 2**\n",
    "\n",
    "Given a string num which represents an integer, return true *if* num *is a **strobogrammatic number***.\n",
    "\n",
    "A **strobogrammatic number** is a number that looks the same when rotated 180 degrees (looked at upside down).\n",
    "\n",
    "**Example 1:**\n",
    "\n",
    "**Input:** num = \"69\"\n",
    "\n",
    "**Output:**\n",
    "\n",
    "true"
   ]
  },
  {
   "cell_type": "code",
   "execution_count": 3,
   "id": "4e9a2013-c209-4553-bab2-155315df7829",
   "metadata": {},
   "outputs": [],
   "source": [
    "###Ans_2.\n",
    "def is_strobogrammatic(num):\n",
    "    lst = [0, 1, -1, -1, -1, -1, 9, -1, 8, 6]\n",
    "    i, j = 0, len(num) - 1\n",
    "    while i <= j:\n",
    "        a, b = int(num[i]), int(num[j])\n",
    "        if lst[a] != b:\n",
    "            return False\n",
    "        i, j = i + 1, j - 1\n",
    "    return True"
   ]
  },
  {
   "cell_type": "code",
   "execution_count": 4,
   "id": "c2acb0a3-68d9-4135-8ad1-1689b3596a50",
   "metadata": {},
   "outputs": [
    {
     "data": {
      "text/plain": [
       "True"
      ]
     },
     "execution_count": 4,
     "metadata": {},
     "output_type": "execute_result"
    }
   ],
   "source": [
    "is_strobogrammatic(\"69\")"
   ]
  },
  {
   "cell_type": "markdown",
   "id": "b21601fd-85ac-468d-b303-7d41d4627169",
   "metadata": {},
   "source": [
    "💡 **Question 3**\n",
    "\n",
    "Given two non-negative integers, num1 and num2 represented as string, return *the sum of* num1 *and* num2 *as a string*.\n",
    "\n",
    "You must solve the problem without using any built-in library for handling large integers (such as BigInteger). You must also not convert the inputs to integers directly.\n",
    "\n",
    "**Example 1:**\n",
    "\n",
    "**Input:** num1 = \"11\", num2 = \"123\"\n",
    "\n",
    "**Output:**\n",
    "\n",
    "\"134\""
   ]
  },
  {
   "cell_type": "code",
   "execution_count": 5,
   "id": "856dde6d-6f43-4839-afdf-82cd677bc128",
   "metadata": {},
   "outputs": [],
   "source": [
    "###Ans_3.\n",
    "def add_strings(num1, num2):\n",
    "    n1 = len(num1)\n",
    "    n2 = len(num2)\n",
    "    \n",
    "    if n1 < n2:\n",
    "        num1, num2 = num2, num1\n",
    "        n1, n2 = n2, n1\n",
    "    \n",
    "    result = []\n",
    "    carry = 0\n",
    "    i, j = n1 - 1, n2 - 1\n",
    "    \n",
    "    while i >= 0:\n",
    "        digit1 = int(num1[i])\n",
    "        digit2 = int(num2[j]) if j >= 0 else 0\n",
    "        \n",
    "        digit_sum = digit1 + digit2 + carry\n",
    "        carry = digit_sum // 10\n",
    "        digit_sum %= 10\n",
    "        \n",
    "        result.insert(0, str(digit_sum))\n",
    "        \n",
    "        i -= 1\n",
    "        j -= 1\n",
    "    \n",
    "    if carry > 0:\n",
    "        result.insert(0, str(carry))\n",
    "    \n",
    "    return \"\".join(result)   "
   ]
  },
  {
   "cell_type": "code",
   "execution_count": 6,
   "id": "a1dd16db-3ff1-4134-90fa-d93659ce85ea",
   "metadata": {},
   "outputs": [
    {
     "data": {
      "text/plain": [
       "'134'"
      ]
     },
     "execution_count": 6,
     "metadata": {},
     "output_type": "execute_result"
    }
   ],
   "source": [
    "add_strings(\"11\",\"123\")"
   ]
  },
  {
   "cell_type": "markdown",
   "id": "a7cde685-e6df-42f5-aa3d-cf498784f5d4",
   "metadata": {},
   "source": [
    "💡 **Question 4**\n",
    "\n",
    "Given a string s, reverse the order of characters in each word within a sentence while still preserving whitespace and initial word order.\n",
    "\n",
    "**Example 1:**\n",
    "\n",
    "**Input:** s = \"Let's take LeetCode contest\"\n",
    "\n",
    "**Output:** \"s'teL ekat edoCteeL tsetnoc\""
   ]
  },
  {
   "cell_type": "code",
   "execution_count": 7,
   "id": "308f2609-cc0b-41c7-9cdc-f943a95b25e9",
   "metadata": {},
   "outputs": [],
   "source": [
    "###Ans_4.\n",
    "def reverse_string(s):\n",
    "    words = s.split()\n",
    "    \n",
    "    reversed_words = [word[::-1] for word in words]\n",
    "    \n",
    "    reversed_sentence = \" \".join(reversed_words)\n",
    "    \n",
    "    return reversed_sentence"
   ]
  },
  {
   "cell_type": "code",
   "execution_count": 8,
   "id": "31039ee9-fa66-4928-878f-cd91403ed10b",
   "metadata": {},
   "outputs": [
    {
     "data": {
      "text/plain": [
       "\"s'teL ekat edoCteeL tsetnoc\""
      ]
     },
     "execution_count": 8,
     "metadata": {},
     "output_type": "execute_result"
    }
   ],
   "source": [
    "reverse_string(\"Let's take LeetCode contest\")"
   ]
  },
  {
   "cell_type": "markdown",
   "id": "32ccc731-dd4e-4187-88bf-77c52081def9",
   "metadata": {},
   "source": [
    "💡 **Question 5**\n",
    "\n",
    "Given a string s and an integer k, reverse the first k characters for every 2k characters counting from the start of the string.\n",
    "\n",
    "If there are fewer than k characters left, reverse all of them. If there are less than 2k but greater than or equal to k characters, then reverse the first k characters and leave the other as original.\n",
    "\n",
    "**Example 1:**\n",
    "\n",
    "**Input:** s = \"abcdefg\", k = 2\n",
    "\n",
    "**Output:**\n",
    "\n",
    "\"bacdfeg\""
   ]
  },
  {
   "cell_type": "code",
   "execution_count": 9,
   "id": "60651c65-d353-40dc-923e-aabaafcab52b",
   "metadata": {},
   "outputs": [],
   "source": [
    "###Ans_5.\n",
    "def reverse_string(s, k):\n",
    "    s = list(s)\n",
    "    n = len(s)\n",
    "    \n",
    "    for i in range(0, n, 2*k):\n",
    "        start = i\n",
    "        end = min(i + k, n)\n",
    "        \n",
    "        s[start:end] = reversed(s[start:end])\n",
    "    reversed_s = ''.join(s)\n",
    "    \n",
    "    return reversed_s"
   ]
  },
  {
   "cell_type": "code",
   "execution_count": 10,
   "id": "d9b7caff-8d72-4af8-be7b-fc927eab70ee",
   "metadata": {},
   "outputs": [
    {
     "data": {
      "text/plain": [
       "'bacdfeg'"
      ]
     },
     "execution_count": 10,
     "metadata": {},
     "output_type": "execute_result"
    }
   ],
   "source": [
    "reverse_string(\"abcdefg\",2)"
   ]
  },
  {
   "cell_type": "markdown",
   "id": "509e27d3-149d-475e-9a0d-d4d6ddb392d4",
   "metadata": {},
   "source": [
    "💡 **Question 6**\n",
    "\n",
    "Given two strings s and goal, return true *if and only if* s *can become* goal *after some number of **shifts** on* s.\n",
    "\n",
    "A **shift** on s consists of moving the leftmost character of s to the rightmost position.\n",
    "\n",
    "- For example, if s = \"abcde\", then it will be \"bcdea\" after one shift.\n",
    "\n",
    "**Example 1:**\n",
    "\n",
    "**Input:** s = \"abcde\", goal = \"cdeab\"\n",
    "\n",
    "**Output:**\n",
    "\n",
    "true"
   ]
  },
  {
   "cell_type": "code",
   "execution_count": 11,
   "id": "2ae188d0-253c-40bd-9c60-8483b0e15e49",
   "metadata": {},
   "outputs": [],
   "source": [
    "###Ans_6.\n",
    "def rotate_string(s, goal):\n",
    "    if len(s) != len(goal):\n",
    "        return False\n",
    "    s_ = s + s\n",
    "    if goal in s_:\n",
    "        return True\n",
    "    \n",
    "    return False"
   ]
  },
  {
   "cell_type": "code",
   "execution_count": 12,
   "id": "7211ebe6-7849-452c-afab-92aef6865a93",
   "metadata": {},
   "outputs": [
    {
     "data": {
      "text/plain": [
       "True"
      ]
     },
     "execution_count": 12,
     "metadata": {},
     "output_type": "execute_result"
    }
   ],
   "source": [
    "rotate_string(\"abcde\",\"cdeab\")"
   ]
  },
  {
   "cell_type": "markdown",
   "id": "c190f5f5-3851-41c9-9748-b1e889e1d408",
   "metadata": {},
   "source": [
    "💡 **Question 7**\n",
    "Given two strings s and t, return true *if they are equal when both are typed into empty text editors*. '#' means a backspace character.\n",
    "\n",
    "Note that after backspacing an empty text, the text will continue empty.\n",
    "\n",
    "**Example 1:**\n",
    "\n",
    "**Input:** s = \"ab#c\", t = \"ad#c\"\n",
    "\n",
    "**Output:** true\n",
    "\n",
    "**Explanation:**\n",
    "\n",
    "Both s and t become \"ac\"."
   ]
  },
  {
   "cell_type": "code",
   "execution_count": 13,
   "id": "b758b87d-1cf4-447c-ad5e-d8e6efad33ef",
   "metadata": {},
   "outputs": [],
   "source": [
    "###Ans_7.\n",
    "def backspace(s,t):\n",
    "    def build(s):\n",
    "        lst = []\n",
    "        for char in s:\n",
    "            if char != '#':\n",
    "                lst.append(char)\n",
    "            elif lst:\n",
    "                lst.pop()\n",
    "        return \"\".join(lst)\n",
    "    return build(s) == build(t)"
   ]
  },
  {
   "cell_type": "code",
   "execution_count": 15,
   "id": "6db99204-08ad-48f5-9cdf-5d17e21dee2f",
   "metadata": {},
   "outputs": [
    {
     "data": {
      "text/plain": [
       "True"
      ]
     },
     "execution_count": 15,
     "metadata": {},
     "output_type": "execute_result"
    }
   ],
   "source": [
    "backspace(\"ab#c\",\"ad#c\")"
   ]
  },
  {
   "cell_type": "markdown",
   "id": "edd2192c-9f6d-482e-8117-6bc60a0ff42a",
   "metadata": {},
   "source": [
    "💡 **Question 8**\n",
    "You are given an array coordinates, coordinates[i] = [x, y], where [x, y] represents the coordinate of a point. Check if these points make a straight line in the XY plane.\n",
    "\n",
    "**Example 1:**\n",
    "\n",
    "**Input:** coordinates = [[1,2],[2,3],[3,4],[4,5],[5,6],[6,7]]\n",
    "\n",
    "**Output:** true"
   ]
  },
  {
   "cell_type": "code",
   "execution_count": 22,
   "id": "a56cdcc0-5944-48c8-8cd5-86483636fa6d",
   "metadata": {},
   "outputs": [],
   "source": [
    "###Ans_8.\n",
    "def straight_line(coordinates):\n",
    "    x0,y0=coordinates[0][0],coordinates[0][1]\n",
    "    x1,y1=coordinates[1][0],coordinates[1][1]\n",
    "    for i in range(2, len(coordinates)):\n",
    "        x,y=coordinates[i][0],coordinates[i][1]\n",
    "        if(x-x0)*(y1-y0)!=(y-y0)*(x1-x0):\n",
    "            return False\n",
    "    return True"
   ]
  },
  {
   "cell_type": "code",
   "execution_count": 23,
   "id": "8ac03ca1-7033-4cb1-b5a7-a54d12da1727",
   "metadata": {},
   "outputs": [
    {
     "data": {
      "text/plain": [
       "True"
      ]
     },
     "execution_count": 23,
     "metadata": {},
     "output_type": "execute_result"
    }
   ],
   "source": [
    "straight_line([[1,2],[2,3],[3,4],[4,5],[5,6],[6,7]])"
   ]
  },
  {
   "cell_type": "code",
   "execution_count": null,
   "id": "739c6a8e-c1e6-4145-9c06-9fe3a593d32d",
   "metadata": {},
   "outputs": [],
   "source": []
  }
 ],
 "metadata": {
  "kernelspec": {
   "display_name": "Python 3 (ipykernel)",
   "language": "python",
   "name": "python3"
  },
  "language_info": {
   "codemirror_mode": {
    "name": "ipython",
    "version": 3
   },
   "file_extension": ".py",
   "mimetype": "text/x-python",
   "name": "python",
   "nbconvert_exporter": "python",
   "pygments_lexer": "ipython3",
   "version": "3.10.8"
  }
 },
 "nbformat": 4,
 "nbformat_minor": 5
}
